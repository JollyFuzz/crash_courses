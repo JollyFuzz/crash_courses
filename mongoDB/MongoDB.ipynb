{
 "cells": [
  {
   "cell_type": "code",
   "execution_count": 1,
   "id": "a523674f",
   "metadata": {},
   "outputs": [],
   "source": [
    "from pymongo import MongoClient\n",
    "\n",
    "# Подключение к локальному серверу MongoDB (по умолчанию порт 27017)\n",
    "client = MongoClient('mongodb://localhost:27017/')"
   ]
  },
  {
   "cell_type": "code",
   "execution_count": 2,
   "id": "16dac88b",
   "metadata": {},
   "outputs": [
    {
     "data": {
      "text/plain": [
       "['admin', 'answer_question', 'config', 'local', 'mydatabase']"
      ]
     },
     "execution_count": 2,
     "metadata": {},
     "output_type": "execute_result"
    }
   ],
   "source": [
    "# Получение списка баз\n",
    "client.list_database_names()"
   ]
  },
  {
   "cell_type": "code",
   "execution_count": 3,
   "id": "fc211b33",
   "metadata": {},
   "outputs": [],
   "source": [
    "# Выбор базы данных (замените 'mydatabase' на нужное имя)\n",
    "# Если базы еще не существует, то она будет создана\n",
    "db = client['mydatabase']"
   ]
  },
  {
   "cell_type": "markdown",
   "id": "801dda46",
   "metadata": {},
   "source": [
    "Схема и валидация"
   ]
  },
  {
   "cell_type": "code",
   "execution_count": 4,
   "id": "49ce43cb",
   "metadata": {},
   "outputs": [],
   "source": [
    "from jsonschema import validate\n",
    "\n",
    "qa_schema = {\n",
    "    \"type\": \"object\",\n",
    "    \"properties\": {\n",
    "        \"_id\": {},\n",
    "        \"question\": {\"type\": \"string\"},\n",
    "        \"answer\": {\"type\": \"string\"}\n",
    "    },\n",
    "    \"required\": [\"question\", \"answer\"],\n",
    "    \"additionalProperties\": False\n",
    "}\n",
    "\n",
    "data = {\n",
    "    \"question\": \"В чем разница между tuple и list?\",\n",
    "    \"answer\": \"Tuple относится к неизменяемым типам данных, list к изменяемым &startA\"\n",
    "}\n",
    "\n",
    "validate(instance=data, schema=qa_schema)  # Не выбросит ошибку, если валидно"
   ]
  },
  {
   "cell_type": "markdown",
   "id": "5f94e019",
   "metadata": {},
   "source": [
    "Создание коллекции и добавление данных"
   ]
  },
  {
   "cell_type": "code",
   "execution_count": 25,
   "id": "9a75cc33",
   "metadata": {},
   "outputs": [
    {
     "data": {
      "text/plain": [
       "Collection(Database(MongoClient(host=['localhost:27017'], document_class=dict, tz_aware=False, connect=True), 'mydatabase'), 'python')"
      ]
     },
     "execution_count": 25,
     "metadata": {},
     "output_type": "execute_result"
    }
   ],
   "source": [
    "collection_name = \"python\"\n",
    "\n",
    "\n",
    "if collection_name in db.list_collection_names():\n",
    "    db.drop_collection(collection_name) \n",
    "\n",
    "db.create_collection(collection_name, validator={\n",
    "    \"$jsonSchema\": qa_schema\n",
    "})"
   ]
  },
  {
   "cell_type": "code",
   "execution_count": 5,
   "id": "325db4f0",
   "metadata": {},
   "outputs": [
    {
     "data": {
      "text/plain": [
       "['python']"
      ]
     },
     "execution_count": 5,
     "metadata": {},
     "output_type": "execute_result"
    }
   ],
   "source": [
    "collections = db.list_collection_names()\n",
    "collections"
   ]
  },
  {
   "cell_type": "code",
   "execution_count": 6,
   "id": "77012aa8",
   "metadata": {},
   "outputs": [],
   "source": [
    "collection = db[\"python\"]"
   ]
  },
  {
   "cell_type": "code",
   "execution_count": 18,
   "id": "0ca23c7a",
   "metadata": {},
   "outputs": [],
   "source": [
    "for i in range(2, 10):\n",
    "    collection.insert_one({\n",
    "        \"question\": f\"a{i}\",\n",
    "        \"answer\": f\"q{i}\"\n",
    "    })"
   ]
  },
  {
   "cell_type": "code",
   "execution_count": 19,
   "id": "56c80c5e",
   "metadata": {},
   "outputs": [
    {
     "data": {
      "text/plain": [
       "10"
      ]
     },
     "execution_count": 19,
     "metadata": {},
     "output_type": "execute_result"
    }
   ],
   "source": [
    "collection.count_documents({})"
   ]
  },
  {
   "cell_type": "code",
   "execution_count": null,
   "id": "cbd2299e",
   "metadata": {},
   "outputs": [
    {
     "ename": "TypeError",
     "evalue": "object of type 'CommandCursor' has no len()",
     "output_type": "error",
     "traceback": [
      "\u001b[0;31m---------------------------------------------------------------------------\u001b[0m",
      "\u001b[0;31mTypeError\u001b[0m                                 Traceback (most recent call last)",
      "Cell \u001b[0;32mIn[27], line 4\u001b[0m\n\u001b[1;32m      2\u001b[0m pipeline \u001b[38;5;241m=\u001b[39m [{\u001b[38;5;124m\"\u001b[39m\u001b[38;5;124m$sample\u001b[39m\u001b[38;5;124m\"\u001b[39m: {\u001b[38;5;124m\"\u001b[39m\u001b[38;5;124msize\u001b[39m\u001b[38;5;124m\"\u001b[39m: \u001b[38;5;241m1\u001b[39m}}]\n\u001b[1;32m      3\u001b[0m random_doc \u001b[38;5;241m=\u001b[39m collection\u001b[38;5;241m.\u001b[39maggregate(pipeline)\n\u001b[0;32m----> 4\u001b[0m \u001b[38;5;28mprint\u001b[39m(\u001b[38;5;28;43mlen\u001b[39;49m\u001b[43m(\u001b[49m\u001b[43mrandom_doc\u001b[49m\u001b[43m)\u001b[49m)\n\u001b[1;32m      5\u001b[0m \u001b[38;5;28mnext\u001b[39m(random_doc) \u001b[38;5;66;03m# т.к. докмунт один и там итератор\u001b[39;00m\n",
      "\u001b[0;31mTypeError\u001b[0m: object of type 'CommandCursor' has no len()"
     ]
    }
   ],
   "source": [
    "# $sample — это агрегационный оператор MongoDB, который возвращает случайные документы из коллекции.\n",
    "pipeline = [{\"$sample\": {\"size\": 1}}]\n",
    "random_doc = collection.aggregate(pipeline)\n",
    "next(random_doc) # т.к. докмунт один и там итератор"
   ]
  },
  {
   "cell_type": "code",
   "execution_count": null,
   "id": "3364019e",
   "metadata": {},
   "outputs": [],
   "source": []
  }
 ],
 "metadata": {
  "kernelspec": {
   "display_name": "vevn",
   "language": "python",
   "name": "python3"
  },
  "language_info": {
   "codemirror_mode": {
    "name": "ipython",
    "version": 3
   },
   "file_extension": ".py",
   "mimetype": "text/x-python",
   "name": "python",
   "nbconvert_exporter": "python",
   "pygments_lexer": "ipython3",
   "version": "3.10.12"
  }
 },
 "nbformat": 4,
 "nbformat_minor": 5
}
