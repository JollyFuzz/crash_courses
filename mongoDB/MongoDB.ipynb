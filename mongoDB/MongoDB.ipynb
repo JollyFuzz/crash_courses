{
 "cells": [
  {
   "cell_type": "code",
   "execution_count": 3,
   "id": "a523674f",
   "metadata": {},
   "outputs": [],
   "source": [
    "from pymongo import MongoClient\n",
    "\n",
    "# Подключение к локальному серверу MongoDB (по умолчанию порт 27017)\n",
    "client = MongoClient('mongodb://localhost:27017/')"
   ]
  },
  {
   "cell_type": "code",
   "execution_count": 13,
   "id": "16dac88b",
   "metadata": {},
   "outputs": [
    {
     "data": {
      "text/plain": [
       "['admin', 'config', 'local']"
      ]
     },
     "execution_count": 13,
     "metadata": {},
     "output_type": "execute_result"
    }
   ],
   "source": [
    "# Получение списка баз\n",
    "client.list_database_names()"
   ]
  },
  {
   "cell_type": "code",
   "execution_count": 14,
   "id": "fc211b33",
   "metadata": {},
   "outputs": [],
   "source": [
    "# Выбор базы данных (замените 'mydatabase' на нужное имя)\n",
    "# Если базы еще не существует, то она будет создана\n",
    "db = client['mydatabase']"
   ]
  },
  {
   "cell_type": "markdown",
   "id": "801dda46",
   "metadata": {},
   "source": [
    "Схема и валидация"
   ]
  },
  {
   "cell_type": "code",
   "execution_count": 23,
   "id": "49ce43cb",
   "metadata": {},
   "outputs": [],
   "source": [
    "from jsonschema import validate\n",
    "\n",
    "qa_schema = {\n",
    "    \"type\": \"object\",\n",
    "    \"properties\": {\n",
    "        \"_id\": {},\n",
    "        \"question\": {\"type\": \"string\"},\n",
    "        \"answer\": {\"type\": \"string\"}\n",
    "    },\n",
    "    \"required\": [\"question\", \"answer\"],\n",
    "    \"additionalProperties\": False\n",
    "}\n",
    "\n",
    "data = {\n",
    "    \"question\": \"В чем разница между tuple и list?\",\n",
    "    \"answer\": \"Tuple относится к неизменяемым типам данных, list к изменяемым &startA\"\n",
    "}\n",
    "\n",
    "validate(instance=data, schema=qa_schema)  # Не выбросит ошибку, если валидно"
   ]
  },
  {
   "cell_type": "markdown",
   "id": "5f94e019",
   "metadata": {},
   "source": [
    "Создание коллекции и добавление данных"
   ]
  },
  {
   "cell_type": "code",
   "execution_count": 25,
   "id": "9a75cc33",
   "metadata": {},
   "outputs": [
    {
     "data": {
      "text/plain": [
       "Collection(Database(MongoClient(host=['localhost:27017'], document_class=dict, tz_aware=False, connect=True), 'mydatabase'), 'python')"
      ]
     },
     "execution_count": 25,
     "metadata": {},
     "output_type": "execute_result"
    }
   ],
   "source": [
    "collection_name = \"python\"\n",
    "\n",
    "\n",
    "if collection_name in db.list_collection_names():\n",
    "    db.drop_collection(collection_name) \n",
    "\n",
    "db.create_collection(collection_name, validator={\n",
    "    \"$jsonSchema\": qa_schema\n",
    "})"
   ]
  },
  {
   "cell_type": "code",
   "execution_count": 17,
   "id": "325db4f0",
   "metadata": {},
   "outputs": [
    {
     "data": {
      "text/plain": [
       "['python']"
      ]
     },
     "execution_count": 17,
     "metadata": {},
     "output_type": "execute_result"
    }
   ],
   "source": [
    "collections = db.list_collection_names()\n",
    "collections"
   ]
  },
  {
   "cell_type": "code",
   "execution_count": 26,
   "id": "77012aa8",
   "metadata": {},
   "outputs": [],
   "source": [
    "collection = db[\"python\"]"
   ]
  },
  {
   "cell_type": "code",
   "execution_count": 27,
   "id": "0ca23c7a",
   "metadata": {},
   "outputs": [
    {
     "data": {
      "text/plain": [
       "InsertOneResult(ObjectId('687be7e8efa723613f0019fa'), acknowledged=True)"
      ]
     },
     "execution_count": 27,
     "metadata": {},
     "output_type": "execute_result"
    }
   ],
   "source": [
    "collection.insert_one(data)"
   ]
  },
  {
   "cell_type": "code",
   "execution_count": null,
   "id": "56c80c5e",
   "metadata": {},
   "outputs": [],
   "source": []
  }
 ],
 "metadata": {
  "kernelspec": {
   "display_name": "vevn",
   "language": "python",
   "name": "python3"
  },
  "language_info": {
   "codemirror_mode": {
    "name": "ipython",
    "version": 3
   },
   "file_extension": ".py",
   "mimetype": "text/x-python",
   "name": "python",
   "nbconvert_exporter": "python",
   "pygments_lexer": "ipython3",
   "version": "3.10.12"
  }
 },
 "nbformat": 4,
 "nbformat_minor": 5
}
