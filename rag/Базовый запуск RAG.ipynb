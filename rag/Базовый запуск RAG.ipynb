{
 "cells": [
  {
   "cell_type": "markdown",
   "id": "c800196e",
   "metadata": {},
   "source": [
    "Инициализация LLM модели"
   ]
  },
  {
   "cell_type": "code",
   "execution_count": 4,
   "id": "6081a748",
   "metadata": {},
   "outputs": [],
   "source": [
    "from langchain_community.llms import Ollama\n",
    "\n",
    "llm = Ollama(model=\"llama3.1:latest\")"
   ]
  },
  {
   "cell_type": "markdown",
   "id": "8b362cc0",
   "metadata": {},
   "source": [
    "Получение эмбендера(?) и векторного хранилища"
   ]
  },
  {
   "cell_type": "code",
   "execution_count": null,
   "id": "31bf1001",
   "metadata": {},
   "outputs": [],
   "source": [
    "from langchain_ollama import OllamaEmbeddings\n",
    "from langchain_core.vectorstores import InMemoryVectorStore\n",
    "\n",
    "\n",
    "text_data = [\n",
    "    \"Котики — любимые животные Сони.\",\n",
    "    \"Котики не любят цитрусовые.\",\n",
    "    \"Котики ласковые, усатые и пугливые.\"\n",
    "]\n",
    "\n",
    "\n",
    "embeddings = OllamaEmbeddings(\n",
    "    model=\"llama3.1\",\n",
    ")\n",
    "vectorstore = InMemoryVectorStore.from_texts(\n",
    "    text_data,\n",
    "    embedding=embeddings,\n",
    ")\n"
   ]
  },
  {
   "cell_type": "markdown",
   "id": "b567bb57",
   "metadata": {},
   "source": [
    "Инициализация ретривера(он же дополнятор)"
   ]
  },
  {
   "cell_type": "code",
   "execution_count": 30,
   "id": "ff7798c5",
   "metadata": {},
   "outputs": [],
   "source": [
    "retriever = vectorstore.as_retriever()\n"
   ]
  },
  {
   "cell_type": "markdown",
   "id": "674d0909",
   "metadata": {},
   "source": []
  },
  {
   "cell_type": "code",
   "execution_count": 31,
   "id": "4636e5fd",
   "metadata": {},
   "outputs": [],
   "source": [
    "from langchain.chains import RetrievalQA\n",
    "\n",
    "qa_chain = RetrievalQA.from_chain_type(\n",
    "    llm=llm,\n",
    "    retriever=retriever\n",
    ")"
   ]
  },
  {
   "cell_type": "markdown",
   "id": "7da7cec2",
   "metadata": {},
   "source": [
    "Запуск рэга(момент истины)"
   ]
  },
  {
   "cell_type": "code",
   "execution_count": 32,
   "id": "082aa39d",
   "metadata": {},
   "outputs": [
    {
     "name": "stdout",
     "output_type": "stream",
     "text": [
      "Ответ: Я знаю, что котики ласковые, усатые и пугливые. Они не любят цитрусовые фрукты и являются любимыми животными Соны.\n"
     ]
    }
   ],
   "source": [
    "query = \"Что ты знаешь о котиках?\"\n",
    "response = qa_chain.invoke(query)\n",
    "print(\"Ответ:\", response[\"result\"])"
   ]
  },
  {
   "cell_type": "markdown",
   "id": "979a4b1c",
   "metadata": {},
   "source": [
    "# Что можно было бы поделать еще"
   ]
  },
  {
   "cell_type": "markdown",
   "id": "99b17cf0",
   "metadata": {},
   "source": [
    "- Можно попробовать перебрать разные алгоритмы поиска\n",
    "  \n",
    "Откуда появилась мысль: Пример из первой статьи запускает поиск через библиотеку FAISS(быстрый поиск ближайших соседей от Facebook), но у меня не завелся с ollama сходу"
   ]
  },
  {
   "cell_type": "markdown",
   "id": "2feb6f7f",
   "metadata": {},
   "source": [
    "# Материалы\n",
    "- https://habr.com/ru/companies/raft/articles/875758/"
   ]
  }
 ],
 "metadata": {
  "kernelspec": {
   "display_name": ".venv",
   "language": "python",
   "name": "python3"
  },
  "language_info": {
   "codemirror_mode": {
    "name": "ipython",
    "version": 3
   },
   "file_extension": ".py",
   "mimetype": "text/x-python",
   "name": "python",
   "nbconvert_exporter": "python",
   "pygments_lexer": "ipython3",
   "version": "3.12.2"
  }
 },
 "nbformat": 4,
 "nbformat_minor": 5
}
