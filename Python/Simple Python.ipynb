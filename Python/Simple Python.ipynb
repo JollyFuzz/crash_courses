{
 "cells": [
  {
   "cell_type": "markdown",
   "id": "5a70c863",
   "metadata": {},
   "source": [
    "# Просто Python\n",
    "\n",
    "В этом ноутбуке я смотрела как работают те или иные вещи в Python"
   ]
  },
  {
   "cell_type": "markdown",
   "id": "409bf9c4",
   "metadata": {},
   "source": [
    "Глубокое и поверхностное копирование\n",
    "\n",
    "\n",
    "some_list[:] — это срез всего списка, который создаёт новый объект списка, но элементы внутри копируются по ссылке. То есть, вложенные объекты не копируются рекурсивно, а остаются общими между оригиналом и копией."
   ]
  },
  {
   "cell_type": "code",
   "execution_count": 7,
   "id": "ce9aaabc",
   "metadata": {},
   "outputs": [
    {
     "name": "stdout",
     "output_type": "stream",
     "text": [
      "Проверяем идентичность списков:\n",
      "Исходный список и копия методом copy(): False\n",
      "Исходный список и копия методом среза [:]: False\n",
      "\n",
      "Проверяем идентичность элементов первого уровня:\n",
      "Первый элемент (целое число) в оригинале и копии copy(): True\n",
      "Первый элемент (целое число) в оригинале и копии срезом [:]: True\n",
      "\n",
      "Проверяем идентичность внутренних вложенных списков:\n",
      "Вложенный список в оригинале и копии copy(): True\n",
      "Вложенный список в оригинале и копии срезом [:]: True\n",
      "\n",
      "Проверяем идентичность вложенного списка после глубокой копии:\n",
      "Вложенный список в оригинале и глубокой копии: False\n",
      "\n",
      "Изменение вложенного элемента демонстрирует разницу:\n",
      "Оригинал: [1, [2, 4], 3]\n",
      "Поверхностная копия copy(): [1, [2, 4], 3]\n",
      "Поверхностная копия срезом [:]: [1, [2, 4], 3]\n",
      "Глубокая копия deepcopy(): [1, [2], 3]\n"
     ]
    }
   ],
   "source": [
    "import copy\n",
    "\n",
    "# Исходный список содержащий разные типы элементов: целое число, вложенный список и другое целое число\n",
    "some_list = [1, [2], 3]\n",
    "\n",
    "# Поверхностная копия списка используя модуль copy\n",
    "some_list_copy = copy.copy(some_list)\n",
    "\n",
    "# Поверхностная копия списка используя срез [:]\n",
    "some_list_slice = some_list[:]\n",
    "\n",
    "# Глубокая копия списка используя deepcopy\n",
    "some_list_deepcopy = copy.deepcopy(some_list)\n",
    "\n",
    "# Проверка идентичности объектов между исходным списком и поверхностными копиями\n",
    "# Объекты сравниваются оператором 'is', проверяя их id()\n",
    "\n",
    "# Оператор 'is' проверяет идентичность объектов, а не равенство значений\n",
    "print(\"Проверяем идентичность списков:\")\n",
    "print(f\"Исходный список и копия методом copy(): {some_list is some_list_copy}\")   # False — объекты разные\n",
    "print(f\"Исходный список и копия методом среза [:]: {some_list is some_list_slice}\")  # False — объекты тоже разные\n",
    "\n",
    "# Пояснение: хотя значения совпадают, сами списки находятся в разных ячейках памяти,\n",
    "# следовательно оператор 'is' возвращает False.\n",
    "\n",
    "# Теперь сравним элементы внутри списков\n",
    "print(\"\\nПроверяем идентичность элементов первого уровня:\")\n",
    "print(f\"Первый элемент (целое число) в оригинале и копии copy(): {some_list[0] is some_list_copy[0]}\")     # True — целые числа хранятся совместно\n",
    "print(f\"Первый элемент (целое число) в оригинале и копии срезом [:]: {some_list[0] is some_list_slice[0]}\")  # True — целые числа также общие\n",
    "\n",
    "# Целые числа являются неизменяемыми объектами Python, потому даже поверхностная копия сохраняет ссылку на один объект.\n",
    "\n",
    "# Далее проверим второй уровень вложенности — внутренние списки\n",
    "print(\"\\nПроверяем идентичность внутренних вложенных списков:\")\n",
    "print(f\"Вложенный список в оригинале и копии copy(): {some_list[1] is some_list_copy[1]}\")      # True — shallow copy сохраняет ссылку на внутренний список\n",
    "print(f\"Вложенный список в оригинале и копии срезом [:]: {some_list[1] is some_list_slice[1]}\")  # True — slice аналогично сохраняет ссылку на вложенный список\n",
    "\n",
    "# Пояснение: поскольку используется поверхностная копия (shallow), ссылка на вложенный список сохраняется, \n",
    "# а значит изменения в нём повлияют на обе версии (оригинал и копию).\n",
    "\n",
    "# Теперь посмотрим, что даёт глубокая копия (deepcopy):\n",
    "print(\"\\nПроверяем идентичность вложенного списка после глубокой копии:\")\n",
    "print(f\"Вложенный список в оригинале и глубокой копии: {some_list[1] is some_list_deepcopy[1]}\")  # False — deepcopy создаёт новый независимый объект!\n",
    "\n",
    "# Дополнительный пример демонстрации различия между поверхностной и глубокой копией:\n",
    "print(\"\\nИзменение вложенного элемента демонстрирует разницу:\")\n",
    "some_list[1].append(4)\n",
    "\n",
    "print(\"Оригинал:\", some_list)              # Изменился оригинал и все поверхностные копии\n",
    "print(\"Поверхностная копия copy():\", some_list_copy)       # Здесь изменение видно\n",
    "print(\"Поверхностная копия срезом [:]:\", some_list_slice)  # Видно изменение тут тоже\n",
    "print(\"Глубокая копия deepcopy():\", some_list_deepcopy)    # А вот здесь изменений нет! Deepcopy создал новую копию внутреннего списка."
   ]
  },
  {
   "cell_type": "code",
   "execution_count": 12,
   "id": "d56d9c4c",
   "metadata": {},
   "outputs": [
    {
     "name": "stdout",
     "output_type": "stream",
     "text": [
      "125142885633648\n",
      "125142885630384\n"
     ]
    }
   ],
   "source": [
    "print(id(1000))  # Возможно, будут разные адреса\n",
    "print(id(1000))  # Так как большие числа не кешируются"
   ]
  },
  {
   "cell_type": "markdown",
   "id": "4caffa57",
   "metadata": {},
   "source": [
    "id и кэширование\n",
    "\n",
    "python кэширует малые числа от -5 до 256, поэтому их адреса в памяти будут совпадать"
   ]
  },
  {
   "cell_type": "code",
   "execution_count": 15,
   "id": "bba4f285",
   "metadata": {},
   "outputs": [
    {
     "name": "stdout",
     "output_type": "stream",
     "text": [
      "125143218127152\n",
      "125143218127152\n"
     ]
    }
   ],
   "source": [
    "print(id(3))\n",
    "print(id(3))"
   ]
  },
  {
   "cell_type": "code",
   "execution_count": 14,
   "id": "214623a3",
   "metadata": {},
   "outputs": [
    {
     "name": "stdout",
     "output_type": "stream",
     "text": [
      "125142885630576\n",
      "125142885635024\n"
     ]
    }
   ],
   "source": [
    "print(id(1000))\n",
    "print(id(1000))"
   ]
  },
  {
   "cell_type": "markdown",
   "id": "812b9f15",
   "metadata": {},
   "source": [
    "Классы"
   ]
  },
  {
   "cell_type": "markdown",
   "id": "12cbeb52",
   "metadata": {},
   "source": [
    "super"
   ]
  },
  {
   "cell_type": "code",
   "execution_count": 18,
   "id": "b826d905",
   "metadata": {},
   "outputs": [
    {
     "name": "stdout",
     "output_type": "stream",
     "text": [
      "Метод из класса A.\n",
      "Метод из класса B.\n"
     ]
    }
   ],
   "source": [
    "class A:\n",
    "    def method(self):\n",
    "        print(\"Метод из класса A.\")\n",
    "\n",
    "class B(A):\n",
    "    pass\n",
    "\n",
    "class C(B):\n",
    "    def method(self):\n",
    "        super().method()  # Вызываем метод ближайшего предка (B)\n",
    "        print(\"Метод из класса B.\")\n",
    "\n",
    "obj_c = C()\n",
    "obj_c.method()  # Метод из класса A."
   ]
  },
  {
   "cell_type": "code",
   "execution_count": 19,
   "id": "80bd8e86",
   "metadata": {},
   "outputs": [
    {
     "name": "stdout",
     "output_type": "stream",
     "text": [
      "Метод из класса B.\n"
     ]
    }
   ],
   "source": [
    "class A:\n",
    "    def method(self):\n",
    "        print(\"Метод из класса A.\")\n",
    "\n",
    "class B(A):\n",
    "    pass\n",
    "\n",
    "class C(B):\n",
    "    def method(self):\n",
    "        # super().method()  # Вызываем метод ближайшего предка (B)\n",
    "        print(\"Метод из класса B.\")\n",
    "\n",
    "obj_c = C()\n",
    "obj_c.method()  # Метод из класса A."
   ]
  },
  {
   "cell_type": "markdown",
   "id": "fd392dde",
   "metadata": {},
   "source": [
    "Доступ к приватному атрибуту"
   ]
  },
  {
   "cell_type": "code",
   "execution_count": 21,
   "id": "f9285b4c",
   "metadata": {},
   "outputs": [],
   "source": [
    "class A:\n",
    "    __some_a = 1"
   ]
  },
  {
   "cell_type": "code",
   "execution_count": 22,
   "id": "064f494a",
   "metadata": {},
   "outputs": [
    {
     "ename": "AttributeError",
     "evalue": "type object 'A' has no attribute '__some_a'",
     "output_type": "error",
     "traceback": [
      "\u001b[0;31m---------------------------------------------------------------------------\u001b[0m",
      "\u001b[0;31mAttributeError\u001b[0m                            Traceback (most recent call last)",
      "Cell \u001b[0;32mIn[22], line 1\u001b[0m\n\u001b[0;32m----> 1\u001b[0m \u001b[43mA\u001b[49m\u001b[38;5;241;43m.\u001b[39;49m\u001b[43m__some_a\u001b[49m\n",
      "\u001b[0;31mAttributeError\u001b[0m: type object 'A' has no attribute '__some_a'"
     ]
    }
   ],
   "source": [
    "A.__some_a"
   ]
  },
  {
   "cell_type": "code",
   "execution_count": 24,
   "id": "609dc6ab",
   "metadata": {},
   "outputs": [
    {
     "data": {
      "text/plain": [
       "1"
      ]
     },
     "execution_count": 24,
     "metadata": {},
     "output_type": "execute_result"
    }
   ],
   "source": [
    "a = A()\n",
    "a._A__some_a"
   ]
  },
  {
   "cell_type": "code",
   "execution_count": null,
   "id": "c7cab959",
   "metadata": {},
   "outputs": [],
   "source": []
  }
 ],
 "metadata": {
  "kernelspec": {
   "display_name": "vevn",
   "language": "python",
   "name": "python3"
  },
  "language_info": {
   "codemirror_mode": {
    "name": "ipython",
    "version": 3
   },
   "file_extension": ".py",
   "mimetype": "text/x-python",
   "name": "python",
   "nbconvert_exporter": "python",
   "pygments_lexer": "ipython3",
   "version": "3.10.12"
  }
 },
 "nbformat": 4,
 "nbformat_minor": 5
}
